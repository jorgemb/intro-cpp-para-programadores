{
 "cells": [
  {
   "cell_type": "code",
   "execution_count": null,
   "id": "afdccbc3",
   "metadata": {},
   "outputs": [],
   "source": [
    "#import <chrono>\n",
    "#import <iostream>\n",
    "#import <ctime>\n",
    "#import <string>\n",
    "using namespace std;"
   ]
  },
  {
   "cell_type": "markdown",
   "id": "03bb19a4",
   "metadata": {},
   "source": [
    "# Librería chrono\n",
    "\n",
    "Esta librería fue introducida para manejar tiempo de forma unificada, independiente del sistema operativo. Introduce tres conceptos:\n",
    "\n",
    "* *Duración* : un número específico de tics sobre una unidad de tiempo.\n",
    "* *Reloj* : define un \"inicio del tiempo\" (también llamado `epoch`) y una unidad de tiempo, o precisión.\n",
    "* *Punto de tiempo* : es la combinación de una duración y el inicio del tiempo según lo define un reloj.\n",
    "\n",
    "## Duración\n",
    "\n",
    "Compuesto por dos partes: un valor, representando los tics, y una fracción, indicando la unidad en segundos. Veamos:"
   ]
  },
  {
   "cell_type": "code",
   "execution_count": null,
   "id": "bbe96db4",
   "metadata": {},
   "outputs": [],
   "source": [
    "chrono::duration<int> veinte_segundos(20);\n",
    "chrono::duration<double, std::ratio<60>> medio_minuto(0.5);\n",
    "chrono::duration<long, std::ratio<1,1000>> un_milisegundo(1);"
   ]
  },
  {
   "cell_type": "markdown",
   "id": "7170ee78",
   "metadata": {},
   "source": [
    "Por defecto, una duración utiliza como base el segundo, pero si incluímos una razón podemos indicar qué fracción de segundo utilizar. Esto puede ser hacia arriba, como el segundo ejemplo que utiliza una razón de $\\frac{60}{1}$ segundos (un minuto), o hacia abajo, como el tercer ejemplo que utiliza $\\frac{1}{1000}$, por lo que cada unidad corresponde a un milisegundo.\n",
    "\n",
    "La librería incluye las siguientes definiciones de duración:\n",
    "* nanosegundo\n",
    "* microsegundo\n",
    "* milisegundo\n",
    "* segundo\n",
    "* minuto\n",
    "* hora\n",
    "\n",
    "E introduce las facilidades para operar entre ellos:"
   ]
  },
  {
   "cell_type": "code",
   "execution_count": null,
   "id": "f9dce432",
   "metadata": {},
   "outputs": [],
   "source": [
    "chrono::seconds segundos(2);\n",
    "chrono::milliseconds milisegundos = segundos; // Conversión implícita\n",
    "milisegundos.count()"
   ]
  },
  {
   "cell_type": "code",
   "execution_count": null,
   "id": "d5423e88",
   "metadata": {},
   "outputs": [],
   "source": [
    "chrono::hours horas(3);\n",
    "chrono::minutes minutos = chrono::duration_cast<chrono::minutes>(horas / 2.0); // Conversión explícita\n",
    "minutos.count()"
   ]
  },
  {
   "cell_type": "markdown",
   "id": "90fe3aaf",
   "metadata": {},
   "source": [
    "# Reloj\n",
    "Determina un inicio del tiempo y la unidad de tiempo a partir de este punto. Depende de las facilidades provistas por el sistema operativo. Por ejemplo, los sistemas UNIX utilizan **1 de enero de 1970 a las 00:00:00 horas**, los sistemas Windows pueden utilizar el **1 de enero de 1601 a las 00:00:00 horas**.\n",
    "\n",
    "Adicional, distintos sistemas pueden ofrecer relojes de mayor o menor precisión según si miden el tiempo en variaciones de milisegundos, microsegundos u otra fracción. Veamos algunos relojes:"
   ]
  },
  {
   "cell_type": "code",
   "execution_count": null,
   "id": "a7cb8e71",
   "metadata": {},
   "outputs": [],
   "source": [
    "auto precision_sc = chrono::system_clock::period();\n",
    "cout << \"Precision reloj del sistema: \" << precision_sc.num << \"/\" << (precision_sc.den / 1000) << \" ms\";"
   ]
  },
  {
   "cell_type": "code",
   "execution_count": null,
   "id": "c69482fb",
   "metadata": {},
   "outputs": [],
   "source": [
    "auto precision_hrc = chrono::high_resolution_clock::period();\n",
    "cout << \"Precision reloj de alta precisión: \" << precision_hrc.num << \"/\" << (precision_hrc.den / 1000) << \" ms\";"
   ]
  },
  {
   "cell_type": "markdown",
   "id": "8776119f",
   "metadata": {},
   "source": [
    "# Punto de tiempo\n",
    "Con esto pasamos a definir un punto en el tiempo. Toma de referencia la época del reloj y una duración a partir de ese momento. Así, para decir \"este momento\", el reloj nos devolvería la cantidad de tics (según la precisión del reloj) que han sucedido desde el inicio del tiempo de ese reloj."
   ]
  },
  {
   "cell_type": "code",
   "execution_count": null,
   "id": "4b436341",
   "metadata": {},
   "outputs": [],
   "source": [
    "chrono::system_clock::time_point ahora = chrono::system_clock::now();\n",
    "cout << \"Tics desde el inicio del tiempo: \" << ahora.time_since_epoch().count();"
   ]
  },
  {
   "cell_type": "markdown",
   "id": "b4e8aa05",
   "metadata": {},
   "source": [
    "C++ incluye estas facilidades para medir el tiempo, pero si queremos mostrar el tiempo debemos de aprovechar algunas herramientas definidas desde C, las cuales se incluyen en la librería ctime."
   ]
  },
  {
   "cell_type": "code",
   "execution_count": null,
   "id": "72ec7d6f",
   "metadata": {},
   "outputs": [],
   "source": [
    "// Fuente: Josuttis, N, The C++ Standard Library, Segunda Edición, Addison-Wesley\n",
    "string tiempo_a_string(const std::chrono::system_clock::time_point& tp){\n",
    "    std::time_t t = std::chrono::system_clock::to_time_t(tp);\n",
    "    std::string ts = std::ctime(&t);\n",
    "    ts.resize(ts.size()-1);  // Eliminar cambio de linea al final\n",
    "    return ts;\n",
    "}\n",
    "\n",
    "cout << \"Época: \" << tiempo_a_string(chrono::system_clock::time_point()) << endl;\n",
    "cout << \"Ahora: \" << tiempo_a_string(chrono::system_clock::now()) << endl;\n",
    "cout << \"Fecha mínima: \" << tiempo_a_string(chrono::system_clock::time_point::min()) << endl;\n",
    "cout << \"Fecha máxima: \" << tiempo_a_string(chrono::system_clock::time_point::max()) << endl;"
   ]
  },
  {
   "cell_type": "code",
   "execution_count": null,
   "id": "ab7eb6e0-701b-4285-b211-df432d1bb1a5",
   "metadata": {},
   "outputs": [],
   "source": []
  }
 ],
 "metadata": {
  "kernelspec": {
   "display_name": "C++17",
   "language": "C++17",
   "name": "xcpp17"
  },
  "language_info": {
   "codemirror_mode": "text/x-c++src",
   "file_extension": ".cpp",
   "mimetype": "text/x-c++src",
   "name": "c++",
   "version": "17"
  }
 },
 "nbformat": 4,
 "nbformat_minor": 5
}
