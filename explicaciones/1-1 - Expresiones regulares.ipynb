{
 "cells": [
  {
   "cell_type": "code",
   "execution_count": null,
   "id": "59fe4b56-de5f-40e1-bfde-cf6c5f7521bd",
   "metadata": {},
   "outputs": [],
   "source": [
    "#include <regex>\n",
    "#include <string>\n",
    "#include <iostream>\n",
    "#include <iterator>\n",
    "\n",
    "using namespace std;"
   ]
  },
  {
   "cell_type": "markdown",
   "id": "897cb46a-8978-4166-819d-1d9d1b1810a9",
   "metadata": {},
   "source": [
    "# Expresiones regulares\n",
    "\n",
    "En general, una expresión regular es un patrón de búsqueda. Especifica la \"forma\" que\n",
    "debe de tener un texto para cumplir con el patrón. Veamos con un ejemplo analizando la frase:\n",
    " \n",
    "```La expresión boom!, boooom! o booooooom! se dice en español como ¡bum!, ¡buuuuum! y ¡buuuuuuum!. ```\n",
    "\n",
    "En su forma más sencilla, una expresión regular nos permite identificar una secuencia de caracteres:"
   ]
  },
  {
   "cell_type": "code",
   "execution_count": null,
   "id": "32329e6e-2632-4114-ad8a-911970f10269",
   "metadata": {},
   "outputs": [],
   "source": [
    "string frase = \"La expresión boom!, boooom! o booooooom! se dice en español como ¡bum!, ¡buuuuum! y ¡buuuuuuum!.\";\n",
    "frase"
   ]
  },
  {
   "cell_type": "code",
   "execution_count": null,
   "id": "7b574eb3-5442-4925-8162-bac88874cbb8",
   "metadata": {},
   "outputs": [],
   "source": [
    "string patron = \"boom\";\n",
    "regex expresion_regular(patron);\n",
    "\n",
    "if(regex_search(frase, expresion_regular)){\n",
    "    cout << \"La frase contiene: \" << patron << endl;\n",
    "} else {\n",
    "    cout << \"La frase no contiene: \" << patron << endl;\n",
    "}"
   ]
  },
  {
   "cell_type": "markdown",
   "id": "0c92b62c-cb58-4d2e-9730-abcd661d5df1",
   "metadata": {},
   "source": [
    "Útil, pero ésto fácilmente lo podríamos hacer directamente con el string:"
   ]
  },
  {
   "cell_type": "code",
   "execution_count": null,
   "id": "caa55e3f-e95b-413a-bbfe-1a0022150468",
   "metadata": {},
   "outputs": [],
   "source": [
    "if(frase.find(patron) != string::npos){\n",
    "    cout << \"La frase contiene: \" << patron << endl;\n",
    "} else {\n",
    "    cout << \"La frase no contiene: \" << patron << endl;\n",
    "}"
   ]
  },
  {
   "cell_type": "markdown",
   "id": "25fcbfff-7057-4e40-8665-323ef4403c29",
   "metadata": {},
   "source": [
    "---\n",
    "\n",
    "Ahora, ¿qué sucede si queremos buscar todas las formas en que se escribe `boom`? Tendríamos que \n",
    "saber exactamente cuáles formas aparecen en la frase y hacer la búsqueda con cada una. O podríamos\n",
    "construir una epxresión regular:"
   ]
  },
  {
   "cell_type": "code",
   "execution_count": null,
   "id": "5c93cb72-0b85-4843-802f-01b31f6667ce",
   "metadata": {},
   "outputs": [],
   "source": [
    "void imprimir_coincidencias(string cadena, regex exp){\n",
    "    auto inicio = sregex_iterator(cadena.begin(), cadena.end(), exp);\n",
    "    auto fin = sregex_iterator();\n",
    "    \n",
    "    for(auto iter = inicio; iter != fin; ++iter){\n",
    "        smatch coincidencia = *iter;\n",
    "        cout << \"Encontrado: \" << coincidencia.str() << endl;\n",
    "    }\n",
    "}"
   ]
  },
  {
   "cell_type": "code",
   "execution_count": null,
   "id": "64ded36c-ba65-40f7-8a90-afc502979732",
   "metadata": {},
   "outputs": [],
   "source": [
    "expresion_regular = regex(R\"(bu+m)\");\n",
    "imprimir_coincidencias(frase, expresion_regular);"
   ]
  },
  {
   "cell_type": "markdown",
   "id": "8777a0d9-372d-4984-ada1-d304f8c1f175",
   "metadata": {},
   "source": [
    "(Haré la introducción formal a funciones un poco más adelante y de iteradores en el siguiente proyecto)\n",
    "\n",
    "Aquí estamos introduciendo también cadenas literales (¿crudas?). Una cadena en la forma `R\"(<cadena>)\"` determina que todos los caracteres\n",
    "deben de ser tomados de forma literal, por lo que evita el tener que agregar caracteres de escape. Todo lo que se encuentre entre los \n",
    "delimitadores `R(\"` y `\")` se toma de forma \"literal\", tal cual aparece. Este tipo de cadenas son útiles especialmente para expresiones regulares.\n",
    "\n",
    "Podemos ver que esta expresión realizó una coincidencia con cada una de las formas de \"boom\" en la frase. Los operadores más\n",
    "básicos de una expresión regular son:\n",
    "* `(exp)` Agrupa una secuencia para ser tomada como un solo elemento\n",
    "* `|` Indica opción entre dos elementos\n",
    "* `+` Una o más ocurrencias del elemento\n",
    "* `*` Cero o más ocurrencias del elemento\n",
    "\n",
    "Existen extensiones a las librerías de expresiones regulares que permiten un mayor grado de expresividad y control. C++\n",
    "ofrece soporte para estas variaciones.\n",
    "\n",
    "De esta manera podríamos también realizar coincidencias con las formas en inglés y español de la frase boom:"
   ]
  },
  {
   "cell_type": "code",
   "execution_count": null,
   "id": "37ec64e4-1fa5-4ba7-a346-04c9df743085",
   "metadata": {},
   "outputs": [],
   "source": [
    "expresion_regular = regex(R\"(b(o|u)+m)\");\n",
    "imprimir_coincidencias(frase, expresion_regular);"
   ]
  },
  {
   "cell_type": "code",
   "execution_count": null,
   "id": "0f82d8df-67a1-41ca-af55-26f33d6746d0",
   "metadata": {},
   "outputs": [],
   "source": []
  }
 ],
 "metadata": {
  "kernelspec": {
   "display_name": "C++17",
   "language": "C++17",
   "name": "xcpp17"
  },
  "language_info": {
   "codemirror_mode": "text/x-c++src",
   "file_extension": ".cpp",
   "mimetype": "text/x-c++src",
   "name": "c++",
   "version": "17"
  }
 },
 "nbformat": 4,
 "nbformat_minor": 5
}
