{
 "cells": [
  {
   "cell_type": "markdown",
   "id": "6479619c",
   "metadata": {},
   "source": [
    "# Uso de `explicit`\n"
   ]
  },
  {
   "cell_type": "code",
   "execution_count": null,
   "id": "5ad44525",
   "metadata": {},
   "outputs": [],
   "source": [
    "#include <string>\n",
    "#include <iostream>"
   ]
  },
  {
   "cell_type": "markdown",
   "id": "2ce31917",
   "metadata": {},
   "source": [
    "## C++ hace conversiones de forma implícita\n",
    "\n",
    "Si es posible convertir una operación a un tipo de datos que no pierda información C++ hará la conversión sin mayor problema. Este tipo de conversiones son llamadas `implícitas`, por ejemplo:\n",
    "\n",
    "**Int a Double**"
   ]
  },
  {
   "cell_type": "code",
   "execution_count": null,
   "id": "db3377b9",
   "metadata": {},
   "outputs": [],
   "source": [
    "3 + 2.5"
   ]
  },
  {
   "cell_type": "markdown",
   "id": "4f328284",
   "metadata": {},
   "source": [
    "**Bool a Int**"
   ]
  },
  {
   "cell_type": "code",
   "execution_count": null,
   "id": "9a2eb75b",
   "metadata": {},
   "outputs": [],
   "source": [
    "1 + true"
   ]
  },
  {
   "cell_type": "markdown",
   "id": "036a3773",
   "metadata": {},
   "source": [
    "**Int a Bool**\n",
    "Aunque este es un caso especial en el que se evalúa la expresión y no porque se convierten los datos."
   ]
  },
  {
   "cell_type": "code",
   "execution_count": null,
   "id": "4d1174c7",
   "metadata": {},
   "outputs": [],
   "source": [
    "33 ? \"verdadero\" : \"falso\""
   ]
  },
  {
   "cell_type": "markdown",
   "id": "dc0b2aa0",
   "metadata": {},
   "source": [
    "## Constructores de un argumento presentan rutas para conversiones implicitas\n",
    "\n",
    "Por ejemplo, `std::string` presenta un constructor de la siguiente forma:\n",
    "\n",
    "`string(const char* pchar);`\n",
    "\n",
    "Lo que permite escribir cosas como:"
   ]
  },
  {
   "cell_type": "code",
   "execution_count": null,
   "id": "6fd3b39e",
   "metadata": {},
   "outputs": [],
   "source": [
    "void imprimir(std::string cadena){\n",
    "    std::cout << cadena << std::endl;\n",
    "}"
   ]
  },
  {
   "cell_type": "markdown",
   "id": "908eefc0",
   "metadata": {},
   "source": [
    "Y podemos llamar esta función ya sea con un `std::string`, con un `const char*` o con un `char []` (los arreglos \"decáen\" a punteros, como `char *` y luego a `std::string`). C++ hace la conversión de forma implícita."
   ]
  },
  {
   "cell_type": "code",
   "execution_count": null,
   "id": "86774c65",
   "metadata": {},
   "outputs": [],
   "source": [
    "std::string str(\"Este es un string\");\n",
    "imprimir(str);"
   ]
  },
  {
   "cell_type": "code",
   "execution_count": null,
   "id": "ac3265d1",
   "metadata": {},
   "outputs": [],
   "source": [
    "char arreglo_char[] = \"Este es un arreglo de char\";\n",
    "imprimir(arreglo_char);"
   ]
  },
  {
   "cell_type": "markdown",
   "id": "3488c4d4",
   "metadata": {},
   "source": [
    "De otra manera tendríamos que escribir:\n",
    "`imprimir(std::string(pchar));`\n",
    "\n",
    "\n",
    "Pero, por útil que esto sea, a veces puede presentar problemas e introduir errores difíciles de encontrar."
   ]
  },
  {
   "cell_type": "markdown",
   "id": "3740ab27",
   "metadata": {},
   "source": [
    "## Problemas con conversiones implicitas\n",
    "\n",
    "Consideremos este código:"
   ]
  },
  {
   "cell_type": "code",
   "execution_count": null,
   "id": "efbaf94a",
   "metadata": {},
   "outputs": [],
   "source": [
    "class A{\n",
    "public:\n",
    "    A(): valor(0) {}\n",
    "\n",
    "    int valor;\n",
    "};\n",
    "\n",
    "class B{\n",
    "public:\n",
    "    B(): valor(0.0f) {}\n",
    "    // B(const A& a): valor(10.0f) {}\n",
    "    explicit B(const A& a): valor(10.0f) {}\n",
    "    \n",
    "    float valor;\n",
    "};"
   ]
  },
  {
   "cell_type": "markdown",
   "id": "28976d6d",
   "metadata": {},
   "source": [
    "A y B son dos clases que poseen un valor como atributo. B provee un constructor que recibe una clase de tipo A e inicializa su valor con A. Veamos esta funcion:"
   ]
  },
  {
   "cell_type": "code",
   "execution_count": null,
   "id": "beba40ab",
   "metadata": {},
   "outputs": [],
   "source": [
    "void mostrar_valor(const B& algun_valor){\n",
    "    std::cout << algun_valor.valor << std::endl;\n",
    "}\n",
    "\n",
    "B tipo_b;\n",
    "tipo_b.valor = 75.2f;\n",
    "\n",
    "mostrar_valor(tipo_b);"
   ]
  },
  {
   "cell_type": "markdown",
   "id": "0eacbd87",
   "metadata": {},
   "source": [
    "Ahora veamos un error sutil, ¿qué sucede cuando enviamos un valor de tipo A?"
   ]
  },
  {
   "cell_type": "code",
   "execution_count": null,
   "id": "47c341d8",
   "metadata": {},
   "outputs": [],
   "source": [
    "A tipo_a;\n",
    "tipo_a.valor = 60;\n",
    "\n",
    "mostrar_valor(tipo_a);"
   ]
  },
  {
   "cell_type": "markdown",
   "id": "66f83eb2",
   "metadata": {},
   "source": [
    "C++ permitió que enviáramos un valor que no está definido para la función. Como encontró un constructor de B que acepta A implícitamente convirtió el argumento.\n",
    "\n",
    "Para evitar que esto suceda podemos declarar el constructor `explicit`. Esto dice al compilador que no deseamos permitir conversiones implícitas utilizando este constructor."
   ]
  },
  {
   "cell_type": "code",
   "execution_count": null,
   "id": "a545bc46",
   "metadata": {},
   "outputs": [],
   "source": [
    "A otro_tipo_a;\n",
    "\n",
    "mostrar_valor(B(otro_tipo_a));"
   ]
  },
  {
   "cell_type": "markdown",
   "id": "9c851e1f",
   "metadata": {},
   "source": [
    "La recomendación es marcar todos los constructores de un solo argumento como `explicit`, a menos que exista una buena razón para no hacerlo (como en el caso de std::string)."
   ]
  },
  {
   "cell_type": "code",
   "execution_count": null,
   "id": "560b7d6c",
   "metadata": {},
   "outputs": [],
   "source": []
  }
 ],
 "metadata": {
  "kernelspec": {
   "display_name": "C++17",
   "language": "C++17",
   "name": "xcpp17"
  },
  "language_info": {
   "codemirror_mode": "text/x-c++src",
   "file_extension": ".cpp",
   "mimetype": "text/x-c++src",
   "name": "c++",
   "version": "17"
  }
 },
 "nbformat": 4,
 "nbformat_minor": 5
}
