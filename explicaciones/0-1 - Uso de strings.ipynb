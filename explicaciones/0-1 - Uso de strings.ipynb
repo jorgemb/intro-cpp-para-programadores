{
 "cells": [
  {
   "cell_type": "code",
   "execution_count": null,
   "id": "ab054eee-cd8f-4438-9375-9d091316cff8",
   "metadata": {},
   "outputs": [],
   "source": [
    "#include <string>\n",
    "#include <cstring>\n",
    "#include <iostream>\n",
    "\n",
    "using namespace std;"
   ]
  },
  {
   "cell_type": "markdown",
   "id": "785b561f-9d69-40dd-b666-cca9001d59e7",
   "metadata": {},
   "source": [
    "# Strings en C y C++\n",
    "\n",
    "Strings en C y C++ tienen la misma representación en memoria, pero su interfaz varía entre cada uno.\n",
    "Los strings tienen la siguiente forma:\n",
    "\n",
    "![Cadenas en C/C++](img/cadena-c.png)\n",
    "\n",
    "Cada uno de los espacios en memoria es de tipo `char` y una cadena de caracteres es una secuencia (o arreglo)\n",
    "de variables de este tipo. Para delimitar un string necesitamos:\n",
    "- Saber el punto de inicio\n",
    "- Leer hasta encontrar el caracter nulo `\\0`\n",
    "\n",
    "Un puntero nos indica la primera posición de memoria, de la siguiente manera:\n"
   ]
  },
  {
   "cell_type": "code",
   "execution_count": null,
   "id": "bc74eaf5-4066-4f9c-bc78-3e39365fe3d5",
   "metadata": {},
   "outputs": [],
   "source": [
    "const char* cadena = \"Hola\";\n",
    "\n",
    "cout << \"Cadena 1\\n\";\n",
    "cout << \"Primer caracter: \" << cadena[0] << \"\\n\";\n",
    "cout << \"La cadena tiene \" << strlen(cadena) << \" caracteres\\n\\n\";\n",
    "\n",
    "char cadena2[] = \"Un arreglo también es una cadena de caracteres\";\n",
    "cout << \"Cadena 2: \" << cadena2  << \"\\n\";\n",
    "\n",
    "// Comparar cadenas\n",
    "int cadenas_iguales = strcmp(cadena, cadena2);\n",
    "if(cadenas_iguales == 0){\n",
    "    std::cout << \"Las cadenas son iguales\\n\";\n",
    "} else {\n",
    "    std::cout << \"Las cadenas son distintas\\n\";\n",
    "}\n"
   ]
  },
  {
   "cell_type": "markdown",
   "id": "4b75c2a2-c916-4ee5-9e46-69a2068af336",
   "metadata": {},
   "source": [
    "---\n",
    "En general, el uso de punteros tiende a ser propenso a errores si no se hace adecuadamente. Mientras\n",
    "que es una herramienta muy versátil, la preferencia es **evitar usarlos a menos que sea estrictamente necesario**.\n",
    "\n",
    "Por ello, C++ introduce la librería string, que facilita el trabajo con cadenas de caracteres."
   ]
  },
  {
   "cell_type": "code",
   "execution_count": null,
   "id": "9fd41353-9595-441f-9e05-addb04b9e124",
   "metadata": {},
   "outputs": [],
   "source": [
    "string string1 = \"Hola\";\n",
    "cout << \"String 1\\n\";\n",
    "cout << \"Primer caracter: \" << string1[0] << \"\\n\";\n",
    "cout << \"El string tiene \" << string1.size() << \" caracteres\\n\\n\";\n",
    "\n",
    "string string2 = \"Otra cadena\";\n",
    "if(string1 == string2){\n",
    "    cout << \"Las cadenas son iguales\\n\";\n",
    "} else {\n",
    "    cout << \"Las cadenas son distintas\\n\";\n",
    "}"
   ]
  },
  {
   "cell_type": "markdown",
   "id": "e6087b92-1d81-4d3d-9ff1-305210000fc0",
   "metadata": {},
   "source": [
    "---\n",
    "\n",
    "Los strings permiten ser comparados directamente, mientras que las cadenas de caracteres no lo permiten:"
   ]
  },
  {
   "cell_type": "code",
   "execution_count": null,
   "id": "a65e3d22-4747-4f19-9a92-7b5fb1fe49e8",
   "metadata": {},
   "outputs": [],
   "source": [
    "char c1[] = \"Prueba de comparacion\";\n",
    "char c2[] = \"Prueba de comparacion\";\n",
    "\n",
    "if(c1 == c2){\n",
    "    cout << \"Las cadenas son iguales\\n\";\n",
    "}else{\n",
    "    cout << \"Las cadenas son distintas\\n\";\n",
    "}"
   ]
  },
  {
   "cell_type": "markdown",
   "id": "a9b77263-66e4-4ad8-bc5f-2b36be02145a",
   "metadata": {},
   "source": [
    "Observamos que el compilador nos advierte que este tipo de comparaciones siempre evalúan a falso. Esto es porque\n",
    "estamos comparando las direcciones en memoria, y dos variables distintas deberían de ocupar espacios distintos.\n",
    "\n",
    "C++ provee también alternatives a utilizar arreglos `[]` en general, por lo que no ahondamos en su sintáxis o su uso."
   ]
  },
  {
   "cell_type": "code",
   "execution_count": null,
   "id": "b9e1a42d-a3b5-4f14-b6c0-32fb0c705208",
   "metadata": {},
   "outputs": [],
   "source": []
  }
 ],
 "metadata": {
  "kernelspec": {
   "display_name": "C++17",
   "language": "C++17",
   "name": "xcpp17"
  },
  "language_info": {
   "codemirror_mode": "text/x-c++src",
   "file_extension": ".cpp",
   "mimetype": "text/x-c++src",
   "name": "c++",
   "version": "17"
  }
 },
 "nbformat": 4,
 "nbformat_minor": 5
}
