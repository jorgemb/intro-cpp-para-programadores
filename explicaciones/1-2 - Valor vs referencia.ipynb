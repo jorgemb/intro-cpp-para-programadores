{
 "cells": [
  {
   "cell_type": "code",
   "execution_count": null,
   "id": "fee8a60e",
   "metadata": {},
   "outputs": [],
   "source": [
    "#include <iostream>\n",
    "#include <string>\n",
    "\n",
    "using namespace std;"
   ]
  },
  {
   "cell_type": "markdown",
   "id": "75ac2f35-1771-405a-a319-5706a7a5c605",
   "metadata": {},
   "source": [
    "# Argumentos a funciones\n",
    "\n",
    "En general C++ envía todos los argumentos a una función por valor. Esto quiere decir que los valores de los argumentos son copiados a\n",
    "los parámetros:"
   ]
  },
  {
   "cell_type": "code",
   "execution_count": null,
   "id": "08f41135-7a2d-45fc-8abd-19bea20f96f7",
   "metadata": {},
   "outputs": [],
   "source": [
    "void modificar_imprimir(string parametro){\n",
    "    parametro = \"[MODIFICADO] \" + parametro;\n",
    "    cout << parametro << \"\\n\";\n",
    "}\n",
    "\n",
    "string argumento = \"Esta es una cadena enviada como argumento\";\n",
    "cout << \"Argumento antes de función: \" << argumento << \"\\n\";\n",
    "modificar_imprimir(argumento);\n",
    "cout << \"Argumento después de función: \" << argumento << \"\\n\";"
   ]
  },
  {
   "cell_type": "markdown",
   "id": "573c7451",
   "metadata": {},
   "source": [
    "## Referencias en C++\n",
    "\n",
    "Antes de ver cómo cambiar el comportamiento de los argumentos enviados a funciones veamos qué es una referencia.\n",
    "Una referencia es básicamente un alias de una variable que no controla el tiempo de vida de la variable original."
   ]
  },
  {
   "cell_type": "code",
   "execution_count": null,
   "id": "d074ce35-8612-4d8f-849f-ca9e78a6ce83",
   "metadata": {},
   "outputs": [],
   "source": [
    "int original = 20;\n",
    "int &alias = original;\n",
    "\n",
    "cout << \"Original: \" << original << endl;\n",
    "\n",
    "// Al cambiar el valor con el alias en lugar cambiamos el valor de la variable original\n",
    "alias = 40;\n",
    "cout << \"Original: \" << original << endl;;"
   ]
  },
  {
   "cell_type": "code",
   "execution_count": null,
   "id": "17f1b24e-e602-4065-9e9a-72bc230a3f5d",
   "metadata": {},
   "outputs": [],
   "source": [
    "{\n",
    "    int &segundo_alias = original;\n",
    "    cout << \"Destrucción del alias no afecta el valor del original\\n\";\n",
    "}\n",
    "cout << \"Original: \" << original;"
   ]
  },
  {
   "cell_type": "markdown",
   "id": "c9faeca6",
   "metadata": {},
   "source": [
    "### Referencias para modificar argumentos\n",
    "En este ejemplo este no parece un comportamiento útil, pero puede ser muy aprovechado para llamadas de funciones. Cuando uno de los parámetros se especifica como referencia éste se convierte en un alias del argumento. Así como esta funcion:"
   ]
  },
  {
   "cell_type": "code",
   "execution_count": null,
   "id": "75f5d20a",
   "metadata": {},
   "outputs": [],
   "source": [
    "\n",
    "void sumar(int& resultado, int op1, int op2){\n",
    "    resultado = op1 + op2;\n",
    "}\n"
   ]
  },
  {
   "cell_type": "markdown",
   "id": "eea2ec4b",
   "metadata": {},
   "source": [
    "\n",
    "Nos permite hacer la llamada de esta manera:"
   ]
  },
  {
   "cell_type": "code",
   "execution_count": null,
   "id": "c6785993",
   "metadata": {},
   "outputs": [],
   "source": [
    "\n",
    "int valor = 0;\n",
    "sumar(valor, 3, 5);\n",
    "\n",
    "cout << valor;"
   ]
  },
  {
   "cell_type": "markdown",
   "id": "aac1021f",
   "metadata": {},
   "source": [
    "Así, cuando queremos poder modificar el argumento podemos declarar el parámetro como referencia. De lo contrario los argumentos son enviados por valor.\n",
    "\n",
    "### Referencias para evitar copias\n",
    "De forma similar podemos utilizar referencias para evitar copias de argumentos que pueden ser muy grandes. Supongamos la siguiente función:"
   ]
  },
  {
   "cell_type": "code",
   "execution_count": null,
   "id": "47480920",
   "metadata": {},
   "outputs": [],
   "source": [
    "void mostrar_string(string mostrar){\n",
    "    cout << mostrar << endl;\n",
    "}\n",
    "\n",
    "string cadena_larga = \"Esta es una cadena larga que no queremos sea copiada cada vez que se muestre\";\n",
    "mostrar_string(cadena_larga);"
   ]
  },
  {
   "cell_type": "markdown",
   "id": "86f20590",
   "metadata": {},
   "source": [
    "Cada vez que mostrar_string es llamada se realiza una copia del argumento. Podríamos resolver esto declarando el argumento como una referencia:"
   ]
  },
  {
   "cell_type": "code",
   "execution_count": null,
   "id": "e60d5a2d",
   "metadata": {},
   "outputs": [],
   "source": [
    "void mostrar_string_ref(string& mostrar){\n",
    "    cout << mostrar << endl;\n",
    "}\n",
    "\n",
    "mostrar_string_ref(cadena_larga);"
   ]
  },
  {
   "cell_type": "raw",
   "id": "444cd8d9",
   "metadata": {},
   "source": [
    "Pero esto nos introduce dos problemas:\n",
    "1. La función ahora tiene la posibilidad de modificar el argumento, situación que no siempre deseamos.\n",
    "2. La función no puede trabajar con valores transitorios"
   ]
  },
  {
   "cell_type": "code",
   "execution_count": null,
   "id": "f4a043bc",
   "metadata": {},
   "outputs": [],
   "source": [
    "mostrar_string(\"Esta es una cadena transitoria - también llamada rvalue\"); // Error de compilación"
   ]
  },
  {
   "cell_type": "markdown",
   "id": "db1ba7a4",
   "metadata": {},
   "source": [
    "Para resolver esto C++ nos permite declarar los parámetros como una **referencia constante**, la cual resuelve ambos problemas. Evita que la función pueda modificar el argumento y, por ello, puede ser utilizada con valores transitorios."
   ]
  },
  {
   "cell_type": "code",
   "execution_count": null,
   "id": "279fa08c",
   "metadata": {},
   "outputs": [],
   "source": [
    "void mostrar_string_ref_constante(const string& mostrar){\n",
    "    cout << mostrar << endl;\n",
    "}\n",
    "\n",
    "mostrar_string_ref_constante(cadena_larga);\n",
    "mostrar_string_ref_constante(\"Esta es una cadena transitoria\");"
   ]
  },
  {
   "cell_type": "code",
   "execution_count": null,
   "id": "2594fe8e",
   "metadata": {},
   "outputs": [],
   "source": []
  }
 ],
 "metadata": {
  "kernelspec": {
   "display_name": "C++17",
   "language": "C++17",
   "name": "xcpp17"
  },
  "language_info": {
   "codemirror_mode": "text/x-c++src",
   "file_extension": ".cpp",
   "mimetype": "text/x-c++src",
   "name": "c++",
   "version": "17"
  }
 },
 "nbformat": 4,
 "nbformat_minor": 5
}
