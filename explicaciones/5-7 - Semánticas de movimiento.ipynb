{
 "cells": [
  {
   "cell_type": "code",
   "execution_count": null,
   "id": "2fe53637",
   "metadata": {},
   "outputs": [],
   "source": [
    "#include <iostream>\n",
    "#include <array>"
   ]
  },
  {
   "cell_type": "markdown",
   "id": "0f1aa59f",
   "metadata": {},
   "source": [
    "# Semánticas de movimiento\n",
    "\n",
    "A partir de C++11 se definen las semánticas de movimiento para hacer evitar las copias innecesarias. Veamos algunos ejemplos:"
   ]
  },
  {
   "cell_type": "code",
   "execution_count": null,
   "id": "7de88f4a",
   "metadata": {},
   "outputs": [],
   "source": [
    "template <class T, std::size_t size>\n",
    "std::ostream& operator<<(std::ostream& os, const std::array<T, size>& ar){\n",
    "    for(auto el: ar){\n",
    "        os << el << \" \";\n",
    "    }\n",
    "    \n",
    "    return os;\n",
    "}"
   ]
  },
  {
   "cell_type": "code",
   "execution_count": null,
   "id": "b4abd196",
   "metadata": {},
   "outputs": [],
   "source": [
    "std::array<int, 1000> A {0, 1, 2, 3, 4}, B;"
   ]
  },
  {
   "cell_type": "code",
   "execution_count": null,
   "id": "aa27aa97",
   "metadata": {},
   "outputs": [],
   "source": [
    "std::cout << A"
   ]
  },
  {
   "cell_type": "code",
   "execution_count": null,
   "id": "6bc9c3d6",
   "metadata": {},
   "outputs": [],
   "source": [
    "for(auto l: B) std::cout << l;"
   ]
  },
  {
   "cell_type": "code",
   "execution_count": null,
   "id": "693436ff",
   "metadata": {},
   "outputs": [],
   "source": [
    "std::swap(A, B);"
   ]
  },
  {
   "cell_type": "code",
   "execution_count": null,
   "id": "96cd9caf",
   "metadata": {},
   "outputs": [],
   "source": [
    "for(auto l: A) std::cout << l;"
   ]
  },
  {
   "cell_type": "code",
   "execution_count": null,
   "id": "ec5a4653",
   "metadata": {},
   "outputs": [],
   "source": [
    "for(auto l: B) std::cout << l;"
   ]
  },
  {
   "cell_type": "code",
   "execution_count": null,
   "id": "15b57c5d",
   "metadata": {},
   "outputs": [],
   "source": []
  }
 ],
 "metadata": {
  "kernelspec": {
   "display_name": "C++17",
   "language": "C++17",
   "name": "xcpp17"
  },
  "language_info": {
   "codemirror_mode": "text/x-c++src",
   "file_extension": ".cpp",
   "mimetype": "text/x-c++src",
   "name": "c++",
   "version": "17"
  }
 },
 "nbformat": 4,
 "nbformat_minor": 5
}
